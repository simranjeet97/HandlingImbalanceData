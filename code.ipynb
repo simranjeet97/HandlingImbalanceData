{
 "cells": [
  {
   "cell_type": "code",
   "execution_count": 3,
   "metadata": {},
   "outputs": [
    {
     "name": "stdout",
     "output_type": "stream",
     "text": [
      "Before Undersampling:  Counter({0: 27900, 1: 3747})\n",
      "After Undersampling:  Counter({0: 3747, 1: 3747})\n",
      "ROC AUC Score Before UnderSampling:  0.5302373124412421\n",
      "ROC AUC Score After UnderSampling:  0.7364923925677977\n",
      "Percentage Increase in Accuracy after using Undersampling: 38.9%\n"
     ]
    }
   ],
   "source": [
    "# Undersampling using Imblearn\n",
    "from collections import Counter\n",
    "from imblearn.under_sampling import RandomUnderSampler\n",
    "from sklearn.model_selection import train_test_split\n",
    "import pandas as pd\n",
    "import numpy as np\n",
    "from sklearn.svm import SVC\n",
    "from sklearn.metrics import classification_report, roc_auc_score\n",
    "import warnings\n",
    "warnings.simplefilter(action='ignore', category=FutureWarning)\n",
    "\n",
    "data = pd.read_csv(\"campaign_impact.csv\")\n",
    "\n",
    "X = data.iloc[:,:-1]\n",
    "y = data.iloc[:,-1]\n",
    "\n",
    "X_train, X_test, y_train, y_test = train_test_split(X,y,test_size=0.30)\n",
    "\n",
    "# Before UnderSampling\n",
    "print(\"Before Undersampling: \", Counter(y_train))\n",
    "Rand_under = RandomUnderSampler(sampling_strategy='majority')\n",
    "\n",
    "X_train_under, y_train_under = Rand_under.fit_resample(X_train, y_train)\n",
    "\n",
    "# After UnderSampling\n",
    "print(\"After Undersampling: \", Counter(y_train_under))\n",
    "\n",
    "# Model Traning Before Undersampling\n",
    "model1=SVC()\n",
    "fit_model = model1.fit(X_train, y_train)\n",
    "pred_undersample = fit_model.predict(X_test)\n",
    "initial = roc_auc_score(y_test, pred_undersample)\n",
    "print(\"ROC AUC Score Before UnderSampling: \", roc_auc_score(y_test, pred_undersample))\n",
    "\n",
    "\n",
    "# Model Traning after Undersampling\n",
    "model2=SVC()\n",
    "fit_model_U = model2.fit(X_train_under, y_train_under)\n",
    "pred_final = fit_model_U.predict(X_test)\n",
    "final = roc_auc_score(y_test, pred_final)\n",
    "print(\"ROC AUC Score After UnderSampling: \", roc_auc_score(y_test, pred_final))\n",
    "\n",
    "# Percentage Increase in Accuracy\n",
    "result = ((final-initial)/initial)*100\n",
    "print(\"Percentage Increase in Accuracy after using Undersampling:\", str(round(result,2))+'%')"
   ]
  },
  {
   "cell_type": "code",
   "execution_count": 4,
   "metadata": {},
   "outputs": [
    {
     "name": "stdout",
     "output_type": "stream",
     "text": [
      "Before OverSampling:  Counter({0: 27962, 1: 3685})\n",
      "After OverSampling:  Counter({0: 27962, 1: 27962})\n",
      "ROC AUC Score Before OverSampling:  0.5161985295957431\n",
      "ROC AUC Score After OverSampling:  0.7455298834852668\n",
      "Percentage Increase in Accuracy after using Undersampling: 44.43%\n"
     ]
    }
   ],
   "source": [
    "#  Oversampling with SMOTE\n",
    "from collections import Counter\n",
    "from imblearn.over_sampling import SMOTE\n",
    "from sklearn.model_selection import train_test_split\n",
    "import pandas as pd\n",
    "import numpy as np\n",
    "import warnings\n",
    "warnings.simplefilter(action='ignore', category=FutureWarning)\n",
    "\n",
    "data = pd.read_csv(\"campaign_impact.csv\")\n",
    "X = data.iloc[:,:-1]\n",
    "y = data.iloc[:,-1]\n",
    "\n",
    "X_train, X_test, y_train, y_test = train_test_split(X,y,test_size=0.30)\n",
    "\n",
    "# Before OverSampling\n",
    "print(\"Before OverSampling: \", Counter(y_train))\n",
    "\n",
    "SMOTE = SMOTE()\n",
    "\n",
    "X_train_SMOTE, y_train_SMOTE = SMOTE.fit_resample(X_train, y_train)\n",
    "\n",
    "# After OverSampling\n",
    "print(\"After OverSampling: \", Counter(y_train_SMOTE))\n",
    "\n",
    "# Model Traning Before OverSampling\n",
    "over1=SVC()\n",
    "fit_over = over1.fit(X_train, y_train)\n",
    "pred = fit_over.predict(X_test)\n",
    "initial = roc_auc_score(y_test, pred)\n",
    "print(\"ROC AUC Score Before OverSampling: \", roc_auc_score(y_test, pred))\n",
    "\n",
    "\n",
    "# Model Traning after OverSampling\n",
    "over2=SVC()\n",
    "fit_over_final = over2.fit(X_train_SMOTE, y_train_SMOTE)\n",
    "pred_final = fit_over_final.predict(X_test)\n",
    "final = roc_auc_score(y_test, pred_final)\n",
    "print(\"ROC AUC Score After OverSampling: \", roc_auc_score(y_test, pred_final))\n",
    "\n",
    "# Percentage Increase in Accuracy\n",
    "result = ((final-initial)/initial)*100\n",
    "print(\"Percentage Increase in Accuracy after using Undersampling:\", str(round(result,2))+'%')"
   ]
  }
 ],
 "metadata": {
  "kernelspec": {
   "display_name": "Python 3.9.12 ('base')",
   "language": "python",
   "name": "python3"
  },
  "language_info": {
   "codemirror_mode": {
    "name": "ipython",
    "version": 3
   },
   "file_extension": ".py",
   "mimetype": "text/x-python",
   "name": "python",
   "nbconvert_exporter": "python",
   "pygments_lexer": "ipython3",
   "version": "3.9.12"
  },
  "orig_nbformat": 4,
  "vscode": {
   "interpreter": {
    "hash": "431cc05a34605a5b68c322c0f70d6f3dbca232460dad629c288195ad2c67af04"
   }
  }
 },
 "nbformat": 4,
 "nbformat_minor": 2
}
